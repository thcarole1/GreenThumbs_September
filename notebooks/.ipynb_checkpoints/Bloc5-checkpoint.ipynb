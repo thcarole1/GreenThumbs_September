{
 "cells": [
  {
   "cell_type": "markdown",
   "metadata": {
    "id": "wtggzSoGJwCU"
   },
   "source": [
    "![logo lw.png](data:image/png;base64,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)"
   ]
  },
  {
   "cell_type": "markdown",
   "metadata": {
    "id": "fpAtLyFSJv6I"
   },
   "source": [
    "\n",
    "Vous travaillez dans l'équipe data de GreenThumb. Votre mission est d'explorer les données de l'entreprise et de développer un modèle de Deep Learning pour analyser les sentiments des reviews.\n",
    "\n",
    "Consignes :\n",
    "- Répondez aux questions : Remplissez les cellules de code ou de texte lorsque vous voyez *Répondez ici*.\n",
    "\n",
    "- Focus sur les [reviews](https://wagon-public-datasets.s3.amazonaws.com/certification/da-ds-de/reviews.csv) : Concentrez-vous sur l'analyse de sentiment des reviews.\n",
    "\n",
    "- Utilisez le Deep Learning : Développez des modèles de Deep Learning.\n",
    "\n",
    "- Priorité à l'apprentissage correct : Le temps est limité, l'objectif est d'avoir des modèles qui apprennent correctement, pas nécessairement les plus performants."
   ]
  },
  {
   "cell_type": "markdown",
   "metadata": {
    "id": "rNoFIWQeKFaJ"
   },
   "source": [
    "# Exploration de la donnée"
   ]
  },
  {
   "cell_type": "markdown",
   "metadata": {
    "id": "bR4S1b2aKn3H"
   },
   "source": [
    "Nous allons nous concentrer sur le **[reviews_df](https://wagon-public-datasets.s3.amazonaws.com/certification/da-ds-de/reviews.csv)**.\n",
    "\n",
    "Exectuez la cellule ci-dessous pour récupérer la donnée."
   ]
  },
  {
   "cell_type": "code",
   "execution_count": 1,
   "metadata": {
    "id": "1IdZhLuOKnXv"
   },
   "outputs": [],
   "source": [
    "import pandas as pd\n",
    "\n",
    "reviews_df = pd.read_csv(\"https://wagon-public-datasets.s3.amazonaws.com/certification/da-ds-de/reviews.csv\")\n"
   ]
  },
  {
   "cell_type": "code",
   "execution_count": 2,
   "metadata": {},
   "outputs": [
    {
     "data": {
      "text/html": [
       "<div>\n",
       "<style scoped>\n",
       "    .dataframe tbody tr th:only-of-type {\n",
       "        vertical-align: middle;\n",
       "    }\n",
       "\n",
       "    .dataframe tbody tr th {\n",
       "        vertical-align: top;\n",
       "    }\n",
       "\n",
       "    .dataframe thead th {\n",
       "        text-align: right;\n",
       "    }\n",
       "</style>\n",
       "<table border=\"1\" class=\"dataframe\">\n",
       "  <thead>\n",
       "    <tr style=\"text-align: right;\">\n",
       "      <th></th>\n",
       "      <th>ReviewID</th>\n",
       "      <th>ReviewScore</th>\n",
       "      <th>ReviewText</th>\n",
       "      <th>OrderID</th>\n",
       "    </tr>\n",
       "  </thead>\n",
       "  <tbody>\n",
       "    <tr>\n",
       "      <th>0</th>\n",
       "      <td>1</td>\n",
       "      <td>5</td>\n",
       "      <td>NaN</td>\n",
       "      <td>501210</td>\n",
       "    </tr>\n",
       "    <tr>\n",
       "      <th>1</th>\n",
       "      <td>1</td>\n",
       "      <td>4</td>\n",
       "      <td>NaN</td>\n",
       "      <td>669676</td>\n",
       "    </tr>\n",
       "    <tr>\n",
       "      <th>2</th>\n",
       "      <td>1</td>\n",
       "      <td>5</td>\n",
       "      <td>NaN</td>\n",
       "      <td>800210</td>\n",
       "    </tr>\n",
       "    <tr>\n",
       "      <th>3</th>\n",
       "      <td>1</td>\n",
       "      <td>5</td>\n",
       "      <td>NaN</td>\n",
       "      <td>228723</td>\n",
       "    </tr>\n",
       "    <tr>\n",
       "      <th>4</th>\n",
       "      <td>1</td>\n",
       "      <td>5</td>\n",
       "      <td>NaN</td>\n",
       "      <td>573604</td>\n",
       "    </tr>\n",
       "    <tr>\n",
       "      <th>5</th>\n",
       "      <td>1</td>\n",
       "      <td>4</td>\n",
       "      <td>NaN</td>\n",
       "      <td>375962</td>\n",
       "    </tr>\n",
       "    <tr>\n",
       "      <th>6</th>\n",
       "      <td>1</td>\n",
       "      <td>2</td>\n",
       "      <td>NaN</td>\n",
       "      <td>127117</td>\n",
       "    </tr>\n",
       "    <tr>\n",
       "      <th>7</th>\n",
       "      <td>1</td>\n",
       "      <td>5</td>\n",
       "      <td>NaN</td>\n",
       "      <td>781310</td>\n",
       "    </tr>\n",
       "    <tr>\n",
       "      <th>8</th>\n",
       "      <td>1</td>\n",
       "      <td>4</td>\n",
       "      <td>Product came As expected, timely and well-pack...</td>\n",
       "      <td>814344</td>\n",
       "    </tr>\n",
       "    <tr>\n",
       "      <th>9</th>\n",
       "      <td>1</td>\n",
       "      <td>3</td>\n",
       "      <td>NaN</td>\n",
       "      <td>80893</td>\n",
       "    </tr>\n",
       "  </tbody>\n",
       "</table>\n",
       "</div>"
      ],
      "text/plain": [
       "   ReviewID  ReviewScore                                         ReviewText  \\\n",
       "0         1            5                                                NaN   \n",
       "1         1            4                                                NaN   \n",
       "2         1            5                                                NaN   \n",
       "3         1            5                                                NaN   \n",
       "4         1            5                                                NaN   \n",
       "5         1            4                                                NaN   \n",
       "6         1            2                                                NaN   \n",
       "7         1            5                                                NaN   \n",
       "8         1            4  Product came As expected, timely and well-pack...   \n",
       "9         1            3                                                NaN   \n",
       "\n",
       "   OrderID  \n",
       "0   501210  \n",
       "1   669676  \n",
       "2   800210  \n",
       "3   228723  \n",
       "4   573604  \n",
       "5   375962  \n",
       "6   127117  \n",
       "7   781310  \n",
       "8   814344  \n",
       "9    80893  "
      ]
     },
     "execution_count": 2,
     "metadata": {},
     "output_type": "execute_result"
    }
   ],
   "source": [
    "reviews_df.head(10)"
   ]
  },
  {
   "cell_type": "code",
   "execution_count": 3,
   "metadata": {},
   "outputs": [
    {
     "data": {
      "text/plain": [
       "(485055, 4)"
      ]
     },
     "execution_count": 3,
     "metadata": {},
     "output_type": "execute_result"
    }
   ],
   "source": [
    "reviews_df.shape\n"
   ]
  },
  {
   "cell_type": "markdown",
   "metadata": {
    "id": "GhL5Wx4lK0y_"
   },
   "source": [
    "1 / Supprimez toutes les lignes avec des valeurs manquantes et toutes les lignes en double."
   ]
  },
  {
   "cell_type": "markdown",
   "metadata": {},
   "source": [
    "**Check missing values**\n"
   ]
  },
  {
   "cell_type": "code",
   "execution_count": 4,
   "metadata": {},
   "outputs": [
    {
     "data": {
      "text/plain": [
       "ReviewText     475705\n",
       "ReviewID            0\n",
       "ReviewScore         0\n",
       "OrderID             0\n",
       "dtype: int64"
      ]
     },
     "execution_count": 4,
     "metadata": {},
     "output_type": "execute_result"
    }
   ],
   "source": [
    "reviews_df.isnull().sum().sort_values(ascending=False)"
   ]
  },
  {
   "cell_type": "code",
   "execution_count": 5,
   "metadata": {},
   "outputs": [
    {
     "name": "stdout",
     "output_type": "stream",
     "text": [
      "(9350, 4)\n"
     ]
    },
    {
     "data": {
      "text/html": [
       "<div>\n",
       "<style scoped>\n",
       "    .dataframe tbody tr th:only-of-type {\n",
       "        vertical-align: middle;\n",
       "    }\n",
       "\n",
       "    .dataframe tbody tr th {\n",
       "        vertical-align: top;\n",
       "    }\n",
       "\n",
       "    .dataframe thead th {\n",
       "        text-align: right;\n",
       "    }\n",
       "</style>\n",
       "<table border=\"1\" class=\"dataframe\">\n",
       "  <thead>\n",
       "    <tr style=\"text-align: right;\">\n",
       "      <th></th>\n",
       "      <th>ReviewID</th>\n",
       "      <th>ReviewScore</th>\n",
       "      <th>ReviewText</th>\n",
       "      <th>OrderID</th>\n",
       "    </tr>\n",
       "  </thead>\n",
       "  <tbody>\n",
       "    <tr>\n",
       "      <th>8</th>\n",
       "      <td>1</td>\n",
       "      <td>4</td>\n",
       "      <td>Product came As expected, timely and well-pack...</td>\n",
       "      <td>814344</td>\n",
       "    </tr>\n",
       "    <tr>\n",
       "      <th>31</th>\n",
       "      <td>1</td>\n",
       "      <td>5</td>\n",
       "      <td>Indoor Sweet-scented Or Creating Perfect outdo...</td>\n",
       "      <td>501052</td>\n",
       "    </tr>\n",
       "    <tr>\n",
       "      <th>69</th>\n",
       "      <td>1</td>\n",
       "      <td>4</td>\n",
       "      <td>Efficient delivery, item matches the online de...</td>\n",
       "      <td>824173</td>\n",
       "    </tr>\n",
       "    <tr>\n",
       "      <th>87</th>\n",
       "      <td>1</td>\n",
       "      <td>4</td>\n",
       "      <td>ITEM ARRIVED ON TIME AND AS DESCRIBED.</td>\n",
       "      <td>8078</td>\n",
       "    </tr>\n",
       "    <tr>\n",
       "      <th>140</th>\n",
       "      <td>1</td>\n",
       "      <td>4</td>\n",
       "      <td>Satisfactory experience, would recommend to ot...</td>\n",
       "      <td>376448</td>\n",
       "    </tr>\n",
       "  </tbody>\n",
       "</table>\n",
       "</div>"
      ],
      "text/plain": [
       "     ReviewID  ReviewScore                                         ReviewText  \\\n",
       "8           1            4  Product came As expected, timely and well-pack...   \n",
       "31          1            5  Indoor Sweet-scented Or Creating Perfect outdo...   \n",
       "69          1            4  Efficient delivery, item matches the online de...   \n",
       "87          1            4             ITEM ARRIVED ON TIME AND AS DESCRIBED.   \n",
       "140         1            4  Satisfactory experience, would recommend to ot...   \n",
       "\n",
       "     OrderID  \n",
       "8     814344  \n",
       "31    501052  \n",
       "69    824173  \n",
       "87      8078  \n",
       "140   376448  "
      ]
     },
     "execution_count": 5,
     "metadata": {},
     "output_type": "execute_result"
    }
   ],
   "source": [
    "reviews_df = reviews_df.dropna()\n",
    "print(reviews_df.shape)\n",
    "reviews_df.head()"
   ]
  },
  {
   "cell_type": "markdown",
   "metadata": {
    "id": "7NeF8doJLk29"
   },
   "source": [
    "**Check duplicates**\n"
   ]
  },
  {
   "cell_type": "code",
   "execution_count": 6,
   "metadata": {},
   "outputs": [
    {
     "data": {
      "text/plain": [
       "104"
      ]
     },
     "execution_count": 6,
     "metadata": {},
     "output_type": "execute_result"
    }
   ],
   "source": [
    "reviews_df.duplicated().sum()"
   ]
  },
  {
   "cell_type": "code",
   "execution_count": 7,
   "metadata": {},
   "outputs": [
    {
     "name": "stdout",
     "output_type": "stream",
     "text": [
      "(9246, 4)\n"
     ]
    },
    {
     "data": {
      "text/html": [
       "<div>\n",
       "<style scoped>\n",
       "    .dataframe tbody tr th:only-of-type {\n",
       "        vertical-align: middle;\n",
       "    }\n",
       "\n",
       "    .dataframe tbody tr th {\n",
       "        vertical-align: top;\n",
       "    }\n",
       "\n",
       "    .dataframe thead th {\n",
       "        text-align: right;\n",
       "    }\n",
       "</style>\n",
       "<table border=\"1\" class=\"dataframe\">\n",
       "  <thead>\n",
       "    <tr style=\"text-align: right;\">\n",
       "      <th></th>\n",
       "      <th>ReviewID</th>\n",
       "      <th>ReviewScore</th>\n",
       "      <th>ReviewText</th>\n",
       "      <th>OrderID</th>\n",
       "    </tr>\n",
       "  </thead>\n",
       "  <tbody>\n",
       "    <tr>\n",
       "      <th>8</th>\n",
       "      <td>1</td>\n",
       "      <td>4</td>\n",
       "      <td>Product came As expected, timely and well-pack...</td>\n",
       "      <td>814344</td>\n",
       "    </tr>\n",
       "    <tr>\n",
       "      <th>31</th>\n",
       "      <td>1</td>\n",
       "      <td>5</td>\n",
       "      <td>Indoor Sweet-scented Or Creating Perfect outdo...</td>\n",
       "      <td>501052</td>\n",
       "    </tr>\n",
       "    <tr>\n",
       "      <th>69</th>\n",
       "      <td>1</td>\n",
       "      <td>4</td>\n",
       "      <td>Efficient delivery, item matches the online de...</td>\n",
       "      <td>824173</td>\n",
       "    </tr>\n",
       "    <tr>\n",
       "      <th>87</th>\n",
       "      <td>1</td>\n",
       "      <td>4</td>\n",
       "      <td>ITEM ARRIVED ON TIME AND AS DESCRIBED.</td>\n",
       "      <td>8078</td>\n",
       "    </tr>\n",
       "    <tr>\n",
       "      <th>140</th>\n",
       "      <td>1</td>\n",
       "      <td>4</td>\n",
       "      <td>Satisfactory experience, would recommend to ot...</td>\n",
       "      <td>376448</td>\n",
       "    </tr>\n",
       "  </tbody>\n",
       "</table>\n",
       "</div>"
      ],
      "text/plain": [
       "     ReviewID  ReviewScore                                         ReviewText  \\\n",
       "8           1            4  Product came As expected, timely and well-pack...   \n",
       "31          1            5  Indoor Sweet-scented Or Creating Perfect outdo...   \n",
       "69          1            4  Efficient delivery, item matches the online de...   \n",
       "87          1            4             ITEM ARRIVED ON TIME AND AS DESCRIBED.   \n",
       "140         1            4  Satisfactory experience, would recommend to ot...   \n",
       "\n",
       "     OrderID  \n",
       "8     814344  \n",
       "31    501052  \n",
       "69    824173  \n",
       "87      8078  \n",
       "140   376448  "
      ]
     },
     "execution_count": 7,
     "metadata": {},
     "output_type": "execute_result"
    }
   ],
   "source": [
    "reviews_df = reviews_df.drop_duplicates()\n",
    "print(reviews_df.shape)\n",
    "reviews_df.head()\n"
   ]
  },
  {
   "cell_type": "markdown",
   "metadata": {
    "id": "qgiSxMRSLq5x"
   },
   "source": [
    "2 / Utilisez la librairie de votre choix pour créer un graphique montrant la répartition des **ReviewScore**."
   ]
  },
  {
   "cell_type": "code",
   "execution_count": 8,
   "metadata": {
    "id": "2PrRRaUmLoc5"
   },
   "outputs": [
    {
     "data": {
      "text/plain": [
       "<AxesSubplot:title={'center':'ReviewScore repartition'}>"
      ]
     },
     "execution_count": 8,
     "metadata": {},
     "output_type": "execute_result"
    },
    {
     "data": {
      "image/png": "[encoded data removed]",
      "text/plain": [
       "<Figure size 640x480 with 1 Axes>"
      ]
     },
     "metadata": {},
     "output_type": "display_data"
    }
   ],
   "source": [
    "reviews_df['ReviewScore'].value_counts().plot(kind='bar', title='ReviewScore repartition')\n"
   ]
  },
  {
   "cell_type": "markdown",
   "metadata": {
    "id": "8Th9Ba6ZLQG5"
   },
   "source": [
    "# Préparation de la donnée"
   ]
  },
  {
   "cell_type": "markdown",
   "metadata": {
    "id": "7goJVWvbMlqf"
   },
   "source": [
    "3 / Créez votre feature X comprenant la colonne **ReviewText** et votre y comprenant la colonne **ReviewScore**."
   ]
  },
  {
   "cell_type": "code",
   "execution_count": 9,
   "metadata": {
    "id": "B9uGbTEzMkCZ"
   },
   "outputs": [
    {
     "name": "stdout",
     "output_type": "stream",
     "text": [
      "(9246, 1)\n"
     ]
    },
    {
     "data": {
      "text/html": [
       "<div>\n",
       "<style scoped>\n",
       "    .dataframe tbody tr th:only-of-type {\n",
       "        vertical-align: middle;\n",
       "    }\n",
       "\n",
       "    .dataframe tbody tr th {\n",
       "        vertical-align: top;\n",
       "    }\n",
       "\n",
       "    .dataframe thead th {\n",
       "        text-align: right;\n",
       "    }\n",
       "</style>\n",
       "<table border=\"1\" class=\"dataframe\">\n",
       "  <thead>\n",
       "    <tr style=\"text-align: right;\">\n",
       "      <th></th>\n",
       "      <th>ReviewText</th>\n",
       "    </tr>\n",
       "  </thead>\n",
       "  <tbody>\n",
       "    <tr>\n",
       "      <th>8</th>\n",
       "      <td>Product came As expected, timely and well-pack...</td>\n",
       "    </tr>\n",
       "    <tr>\n",
       "      <th>31</th>\n",
       "      <td>Indoor Sweet-scented Or Creating Perfect outdo...</td>\n",
       "    </tr>\n",
       "    <tr>\n",
       "      <th>69</th>\n",
       "      <td>Efficient delivery, item matches the online de...</td>\n",
       "    </tr>\n",
       "    <tr>\n",
       "      <th>87</th>\n",
       "      <td>ITEM ARRIVED ON TIME AND AS DESCRIBED.</td>\n",
       "    </tr>\n",
       "    <tr>\n",
       "      <th>140</th>\n",
       "      <td>Satisfactory experience, would recommend to ot...</td>\n",
       "    </tr>\n",
       "  </tbody>\n",
       "</table>\n",
       "</div>"
      ],
      "text/plain": [
       "                                            ReviewText\n",
       "8    Product came As expected, timely and well-pack...\n",
       "31   Indoor Sweet-scented Or Creating Perfect outdo...\n",
       "69   Efficient delivery, item matches the online de...\n",
       "87              ITEM ARRIVED ON TIME AND AS DESCRIBED.\n",
       "140  Satisfactory experience, would recommend to ot..."
      ]
     },
     "execution_count": 9,
     "metadata": {},
     "output_type": "execute_result"
    }
   ],
   "source": [
    "X = reviews_df[['ReviewText']]\n",
    "print(X.shape)\n",
    "X.head()\n"
   ]
  },
  {
   "cell_type": "code",
   "execution_count": 10,
   "metadata": {},
   "outputs": [
    {
     "name": "stdout",
     "output_type": "stream",
     "text": [
      "(9246,)\n"
     ]
    },
    {
     "data": {
      "text/plain": [
       "8      4\n",
       "31     5\n",
       "69     4\n",
       "87     4\n",
       "140    4\n",
       "Name: ReviewScore, dtype: int64"
      ]
     },
     "execution_count": 10,
     "metadata": {},
     "output_type": "execute_result"
    }
   ],
   "source": [
    "y = reviews_df['ReviewScore']\n",
    "print(y.shape)\n",
    "y.head()\n"
   ]
  },
  {
   "cell_type": "markdown",
   "metadata": {
    "id": "7RAeN7SiMz41"
   },
   "source": [
    "4 / Transformez la target en utilisant les correspondances suivantes :\n",
    "- 1 => 0\n",
    "- 2 => 0\n",
    "- 3 => 0\n",
    "- 4 => 1\n",
    "- 5 => 1"
   ]
  },
  {
   "cell_type": "code",
   "execution_count": 11,
   "metadata": {
    "id": "436giZCdL-NI"
   },
   "outputs": [
    {
     "data": {
      "text/plain": [
       "1    65.585118\n",
       "0    34.414882\n",
       "Name: ReviewScore, dtype: float64"
      ]
     },
     "execution_count": 11,
     "metadata": {},
     "output_type": "execute_result"
    }
   ],
   "source": [
    "def transform(s):\n",
    "  if s in range(1,4):\n",
    "    s = 0\n",
    "  if s in range(4,6):\n",
    "    s = 1\n",
    "  return s\n",
    "\n",
    "y  = y.apply(transform)\n",
    "y.value_counts()/len(y)*100\n"
   ]
  },
  {
   "cell_type": "code",
   "execution_count": 12,
   "metadata": {},
   "outputs": [
    {
     "data": {
      "text/plain": [
       "array([1, 1, 1, ..., 1, 1, 0])"
      ]
     },
     "execution_count": 12,
     "metadata": {},
     "output_type": "execute_result"
    }
   ],
   "source": [
    "y.values"
   ]
  },
  {
   "cell_type": "markdown",
   "metadata": {
    "id": "OeU8s6YKNJd1"
   },
   "source": [
    "5 / Utilisez la méthode de hold-out pour ne garder que 20% de la donnée pour le test."
   ]
  },
  {
   "cell_type": "code",
   "execution_count": 13,
   "metadata": {
    "id": "KvGoo-awL9xE"
   },
   "outputs": [
    {
     "name": "stdout",
     "output_type": "stream",
     "text": [
      "Shape of X_train : (7396, 1)\n",
      "Shape of y_train : (7396,)\n",
      "Shape of X_test : (1850, 1)\n",
      "Shape of y_test : (1850,)\n"
     ]
    }
   ],
   "source": [
    "from sklearn.model_selection import train_test_split\n",
    "X_train, X_test, y_train, y_test = train_test_split(X, y, test_size=0.2, random_state=42)\n",
    "\n",
    "print(f\"Shape of X_train : {X_train.shape}\")\n",
    "print(f\"Shape of y_train : {y_train.shape}\")\n",
    "\n",
    "print(f\"Shape of X_test : {X_test.shape}\")\n",
    "print(f\"Shape of y_test : {y_test.shape}\")\n"
   ]
  },
  {
   "cell_type": "markdown",
   "metadata": {
    "id": "yzMSQ1mvNS45"
   },
   "source": [
    "6 / Appliquez sur le X_train toutes les méthodes de transformations de la donnée que vous connaissez et qui vous paraissent pertinentes."
   ]
  },
  {
   "cell_type": "code",
   "execution_count": 14,
   "metadata": {
    "id": "KVIHOIJ2LjQx"
   },
   "outputs": [
    {
     "data": {
      "text/html": [
       "<div>\n",
       "<style scoped>\n",
       "    .dataframe tbody tr th:only-of-type {\n",
       "        vertical-align: middle;\n",
       "    }\n",
       "\n",
       "    .dataframe tbody tr th {\n",
       "        vertical-align: top;\n",
       "    }\n",
       "\n",
       "    .dataframe thead th {\n",
       "        text-align: right;\n",
       "    }\n",
       "</style>\n",
       "<table border=\"1\" class=\"dataframe\">\n",
       "  <thead>\n",
       "    <tr style=\"text-align: right;\">\n",
       "      <th></th>\n",
       "      <th>ReviewText</th>\n",
       "      <th>ReviewText_cleaned</th>\n",
       "    </tr>\n",
       "  </thead>\n",
       "  <tbody>\n",
       "    <tr>\n",
       "      <th>432716</th>\n",
       "      <td>Pleased With vera their Care. plants, Easy Ben...</td>\n",
       "      <td>pleased with vera their care plant easy benefi...</td>\n",
       "    </tr>\n",
       "    <tr>\n",
       "      <th>279725</th>\n",
       "      <td>Product Performs Well For its Intended use.</td>\n",
       "      <td>product performs well for it intended use</td>\n",
       "    </tr>\n",
       "    <tr>\n",
       "      <th>360369</th>\n",
       "      <td>Couldn't be happier with of or natural collect...</td>\n",
       "      <td>couldnt be happier with of or natural collecti...</td>\n",
       "    </tr>\n",
       "    <tr>\n",
       "      <th>333799</th>\n",
       "      <td>Expected a lot more from collection for screen...</td>\n",
       "      <td>expected a lot more from collection for screen...</td>\n",
       "    </tr>\n",
       "    <tr>\n",
       "      <th>34641</th>\n",
       "      <td>PLEASANTLY SURPRISED WITH THE QUALITY AT THIS ...</td>\n",
       "      <td>pleasantly surprised with the quality at this ...</td>\n",
       "    </tr>\n",
       "    <tr>\n",
       "      <th>476435</th>\n",
       "      <td>bonsai space. your years, is phenomenal. Truly...</td>\n",
       "      <td>bonsai space your year is phenomenal truly wor...</td>\n",
       "    </tr>\n",
       "    <tr>\n",
       "      <th>202967</th>\n",
       "      <td>Decent product, no major issues encountered.</td>\n",
       "      <td>decent product no major issue encountered</td>\n",
       "    </tr>\n",
       "    <tr>\n",
       "      <th>340147</th>\n",
       "      <td>Efficient delivery, Item matches The Online De...</td>\n",
       "      <td>efficient delivery item match the online descr...</td>\n",
       "    </tr>\n",
       "    <tr>\n",
       "      <th>252722</th>\n",
       "      <td>exceeded all expectations, highly recommend.</td>\n",
       "      <td>exceeded all expectation highly recommend</td>\n",
       "    </tr>\n",
       "    <tr>\n",
       "      <th>281499</th>\n",
       "      <td>Enjoyed bonsai representing trees the carefull...</td>\n",
       "      <td>enjoyed bonsai representing tree the carefully...</td>\n",
       "    </tr>\n",
       "  </tbody>\n",
       "</table>\n",
       "</div>"
      ],
      "text/plain": [
       "                                               ReviewText  \\\n",
       "432716  Pleased With vera their Care. plants, Easy Ben...   \n",
       "279725        Product Performs Well For its Intended use.   \n",
       "360369  Couldn't be happier with of or natural collect...   \n",
       "333799  Expected a lot more from collection for screen...   \n",
       "34641   PLEASANTLY SURPRISED WITH THE QUALITY AT THIS ...   \n",
       "476435  bonsai space. your years, is phenomenal. Truly...   \n",
       "202967       Decent product, no major issues encountered.   \n",
       "340147  Efficient delivery, Item matches The Online De...   \n",
       "252722       exceeded all expectations, highly recommend.   \n",
       "281499  Enjoyed bonsai representing trees the carefull...   \n",
       "\n",
       "                                       ReviewText_cleaned  \n",
       "432716  pleased with vera their care plant easy benefi...  \n",
       "279725          product performs well for it intended use  \n",
       "360369  couldnt be happier with of or natural collecti...  \n",
       "333799  expected a lot more from collection for screen...  \n",
       "34641   pleasantly surprised with the quality at this ...  \n",
       "476435  bonsai space your year is phenomenal truly wor...  \n",
       "202967          decent product no major issue encountered  \n",
       "340147  efficient delivery item match the online descr...  \n",
       "252722          exceeded all expectation highly recommend  \n",
       "281499  enjoyed bonsai representing tree the carefully...  "
      ]
     },
     "execution_count": 14,
     "metadata": {},
     "output_type": "execute_result"
    }
   ],
   "source": [
    "import string\n",
    "from nltk.corpus import stopwords \n",
    "from nltk import word_tokenize\n",
    "from nltk.stem import WordNetLemmatizer\n",
    "\n",
    "def preprocessing(sentence):\n",
    "    # Removing whitespaces\n",
    "    sentence = sentence.strip()\n",
    "    \n",
    "    # Lowercasing\n",
    "    sentence = sentence.lower()\n",
    "    \n",
    "    # Removing numbers\n",
    "    sentence = ''.join(char for char in sentence if not char.isdigit())\n",
    "    \n",
    "    # Removing punctuation\n",
    "    for punctuation in string.punctuation:\n",
    "        sentence = sentence.replace(punctuation, '')\n",
    "        \n",
    "    # Tokenizing\n",
    "    tokenized = word_tokenize(sentence)\n",
    "    \n",
    "    # Lemmatizing\n",
    "    lemmatizer = WordNetLemmatizer()\n",
    "    lemmatized = [lemmatizer.lemmatize(word) for word in tokenized]\n",
    "    cleaned_sentence = \" \".join(lemmatized)\n",
    "    \n",
    "    return cleaned_sentence\n",
    "\n",
    "X_train['ReviewText_cleaned'] = X_train['ReviewText'].apply(preprocessing)\n",
    "\n",
    "X_train.head(10)"
   ]
  },
  {
   "cell_type": "markdown",
   "metadata": {
    "id": "lK8IZdE2RqoM"
   },
   "source": [
    "7 / Appliquez sur le X_test les mêmes transformations en les ajustant si nécessaire."
   ]
  },
  {
   "cell_type": "code",
   "execution_count": 15,
   "metadata": {
    "id": "UgfwSk8pLkT6"
   },
   "outputs": [
    {
     "data": {
      "text/html": [
       "<div>\n",
       "<style scoped>\n",
       "    .dataframe tbody tr th:only-of-type {\n",
       "        vertical-align: middle;\n",
       "    }\n",
       "\n",
       "    .dataframe tbody tr th {\n",
       "        vertical-align: top;\n",
       "    }\n",
       "\n",
       "    .dataframe thead th {\n",
       "        text-align: right;\n",
       "    }\n",
       "</style>\n",
       "<table border=\"1\" class=\"dataframe\">\n",
       "  <thead>\n",
       "    <tr style=\"text-align: right;\">\n",
       "      <th></th>\n",
       "      <th>ReviewText</th>\n",
       "      <th>ReviewText_cleaned</th>\n",
       "    </tr>\n",
       "  </thead>\n",
       "  <tbody>\n",
       "    <tr>\n",
       "      <th>331459</th>\n",
       "      <td>item arrived on time and as described.</td>\n",
       "      <td>item arrived on time and a described</td>\n",
       "    </tr>\n",
       "    <tr>\n",
       "      <th>303752</th>\n",
       "      <td>MEETS THE REQUIREMENTS, NO COMPLAINTS SO FAR.</td>\n",
       "      <td>meet the requirement no complaint so far</td>\n",
       "    </tr>\n",
       "    <tr>\n",
       "      <th>407891</th>\n",
       "      <td>Amazing Product, Goes Above And beyond.</td>\n",
       "      <td>amazing product go above and beyond</td>\n",
       "    </tr>\n",
       "    <tr>\n",
       "      <th>241700</th>\n",
       "      <td>Customer service was helpful and responsive.</td>\n",
       "      <td>customer service wa helpful and responsive</td>\n",
       "    </tr>\n",
       "    <tr>\n",
       "      <th>208061</th>\n",
       "      <td>absolutely in love with outdoor for jasmine sw...</td>\n",
       "      <td>absolutely in love with outdoor for jasmine sw...</td>\n",
       "    </tr>\n",
       "    <tr>\n",
       "      <th>210661</th>\n",
       "      <td>satisfied with the purchase, meets basic expec...</td>\n",
       "      <td>satisfied with the purchase meet basic expecta...</td>\n",
       "    </tr>\n",
       "    <tr>\n",
       "      <th>393051</th>\n",
       "      <td>Superior quality at a great price, highly sati...</td>\n",
       "      <td>superior quality at a great price highly satis...</td>\n",
       "    </tr>\n",
       "    <tr>\n",
       "      <th>212844</th>\n",
       "      <td>ENJOYED TOWERING WITH. IT DOES THE JOB WELL EN...</td>\n",
       "      <td>enjoyed towering with it doe the job well enou...</td>\n",
       "    </tr>\n",
       "    <tr>\n",
       "      <th>42964</th>\n",
       "      <td>Product came as expected, timely and well-pack...</td>\n",
       "      <td>product came a expected timely and wellpackaged</td>\n",
       "    </tr>\n",
       "    <tr>\n",
       "      <th>76818</th>\n",
       "      <td>Expected a lot more from of for greenery indoo...</td>\n",
       "      <td>expected a lot more from of for greenery indoo...</td>\n",
       "    </tr>\n",
       "  </tbody>\n",
       "</table>\n",
       "</div>"
      ],
      "text/plain": [
       "                                               ReviewText  \\\n",
       "331459             item arrived on time and as described.   \n",
       "303752      MEETS THE REQUIREMENTS, NO COMPLAINTS SO FAR.   \n",
       "407891            Amazing Product, Goes Above And beyond.   \n",
       "241700       Customer service was helpful and responsive.   \n",
       "208061  absolutely in love with outdoor for jasmine sw...   \n",
       "210661  satisfied with the purchase, meets basic expec...   \n",
       "393051  Superior quality at a great price, highly sati...   \n",
       "212844  ENJOYED TOWERING WITH. IT DOES THE JOB WELL EN...   \n",
       "42964   Product came as expected, timely and well-pack...   \n",
       "76818   Expected a lot more from of for greenery indoo...   \n",
       "\n",
       "                                       ReviewText_cleaned  \n",
       "331459               item arrived on time and a described  \n",
       "303752           meet the requirement no complaint so far  \n",
       "407891                amazing product go above and beyond  \n",
       "241700         customer service wa helpful and responsive  \n",
       "208061  absolutely in love with outdoor for jasmine sw...  \n",
       "210661  satisfied with the purchase meet basic expecta...  \n",
       "393051  superior quality at a great price highly satis...  \n",
       "212844  enjoyed towering with it doe the job well enou...  \n",
       "42964     product came a expected timely and wellpackaged  \n",
       "76818   expected a lot more from of for greenery indoo...  "
      ]
     },
     "execution_count": 15,
     "metadata": {},
     "output_type": "execute_result"
    }
   ],
   "source": [
    "X_test['ReviewText_cleaned'] = X_test['ReviewText'].apply(preprocessing)\n",
    "X_test.head(10)"
   ]
  },
  {
   "cell_type": "markdown",
   "metadata": {
    "id": "jCYJtsVCLnbi"
   },
   "source": [
    "# Baseline"
   ]
  },
  {
   "cell_type": "markdown",
   "metadata": {
    "id": "nEh167ECNV22"
   },
   "source": [
    "8 / Vous voulez prédire la note à partir du commentaire.\n",
    "\n",
    "- Quel type de tâche est-ce ?\n",
    "\n",
    "- Quelle métrique est appropriée pour ce type de tâche et pourquoi ?"
   ]
  },
  {
   "cell_type": "markdown",
   "metadata": {
    "id": "RhWHrNbsMpsR"
   },
   "source": [
    "**This is a classification task.<br>\n",
    "We could use accuracy as metric as we want the model to be predict correctly (positive and negative reviews).**\n"
   ]
  },
  {
   "cell_type": "markdown",
   "metadata": {
    "id": "OAGhj1Z9Nzel"
   },
   "source": [
    "9 / Calculez un score de baseline."
   ]
  },
  {
   "cell_type": "code",
   "execution_count": 16,
   "metadata": {
    "id": "gTPaY-SjNxPt"
   },
   "outputs": [
    {
     "name": "stdout",
     "output_type": "stream",
     "text": [
      "Average accuracy for Naive Bayes model : 0.7769048751051457\n"
     ]
    }
   ],
   "source": [
    "import numpy as np\n",
    "from sklearn.model_selection import cross_validate\n",
    "from sklearn.pipeline import make_pipeline\n",
    "from sklearn.feature_extraction.text import TfidfVectorizer\n",
    "from sklearn.naive_bayes import MultinomialNB\n",
    "\n",
    "# Pipeline vectorizer + Naive Bayes\n",
    "pipeline_naive_bayes = make_pipeline(\n",
    "    TfidfVectorizer(),\n",
    "    MultinomialNB()\n",
    ")\n",
    "\n",
    "# Cross-validation\n",
    "cv_results = cross_validate(pipeline_naive_bayes, \n",
    "                            X_train['ReviewText_cleaned'], \n",
    "                            y_train, \n",
    "                            cv = 10, \n",
    "                            scoring = [\"accuracy\"])\n",
    "\n",
    "NB_metric = cv_results[\"test_accuracy\"].mean()\n",
    "# NB_metric = np.round(NB_metric,2)\n",
    "print(f\"Average accuracy for Naive Bayes model : {NB_metric}\")\n"
   ]
  },
  {
   "cell_type": "markdown",
   "metadata": {
    "id": "TzbJuQAGLqXl"
   },
   "source": [
    "# Votre architecture de RNN"
   ]
  },
  {
   "cell_type": "markdown",
   "metadata": {
    "id": "IFlHj9S0ywJZ"
   },
   "source": [
    "Executez le code ci-dessous pour tokenizer et padder la donnée."
   ]
  },
  {
   "cell_type": "code",
   "execution_count": 17,
   "metadata": {
    "id": "Bo3PAWwEy02J"
   },
   "outputs": [
    {
     "name": "stdout",
     "output_type": "stream",
     "text": [
      "There are 354 different words in your corpus\n",
      "X_pad.shape (7396, 30)\n",
      "Vocab size =  354\n"
     ]
    }
   ],
   "source": [
    "from tensorflow.keras.preprocessing.text import Tokenizer\n",
    "from tensorflow.keras.preprocessing.sequence import pad_sequences\n",
    "\n",
    "def get_mock_up_data(X_train, X_test):\n",
    "\n",
    "    ### Let's tokenize the vocabulary\n",
    "    tk = Tokenizer()\n",
    "    tk.fit_on_texts(X_train['ReviewText'].tolist())\n",
    "    vocab_size = len(tk.word_index)\n",
    "    print(f'There are {vocab_size} different words in your corpus')\n",
    "    \n",
    "    X_train_token = tk.texts_to_sequences(X_train['ReviewText'])\n",
    "    X_test_token = tk.texts_to_sequences(X_test['ReviewText'])\n",
    "\n",
    "    ### Pad the inputs\n",
    "    X_train_pad = pad_sequences(X_train_token, dtype='float32', padding='pre')\n",
    "    X_test_pad = pad_sequences(X_test_token, dtype='float32', padding='pre')\n",
    "\n",
    "    return X_train_pad, X_test_pad, vocab_size\n",
    "\n",
    "X_train_pad, X_test_pad, vocab_size = get_mock_up_data(X_train, X_test)\n",
    "\n",
    "print(\"X_pad.shape\", X_train_pad.shape)\n",
    "print(\"Vocab size = \", vocab_size)"
   ]
  },
  {
   "cell_type": "code",
   "execution_count": 18,
   "metadata": {
    "scrolled": true
   },
   "outputs": [
    {
     "name": "stdout",
     "output_type": "stream",
     "text": [
      "Type of X_train_pad : <class 'numpy.ndarray'>\n",
      "Type of X_test_pad : <class 'numpy.ndarray'>\n"
     ]
    }
   ],
   "source": [
    "print(f\"Type of X_train_pad : {type(X_train_pad)}\")\n",
    "print(f\"Type of X_test_pad : {type(X_test_pad)}\")"
   ]
  },
  {
   "cell_type": "markdown",
   "metadata": {
    "id": "vK1Bz-fyRgix"
   },
   "source": [
    "10 / Créez une architecture de RNN pour accomplir cette tâche et entraînez le modèle. Veillez à prendre des mesures pour éviter l'overfitting."
   ]
  },
  {
   "cell_type": "code",
   "execution_count": 19,
   "metadata": {
    "id": "H1tnkPI1R9dO"
   },
   "outputs": [],
   "source": [
    "import matplotlib.pyplot as plt\n",
    "\n",
    "# VISUALIZATION\n",
    "def plot_loss_accuracy(history, title=None):\n",
    "    fig, ax = plt.subplots(1,2, figsize=(20,7))\n",
    "\n",
    "    # --- LOSS --- \n",
    "\n",
    "    ax[0].plot(history.history['loss'])\n",
    "    ax[0].plot(history.history['val_loss'])\n",
    "\n",
    "    ax[0].set_title('Model loss')\n",
    "    ax[0].set_ylabel('Loss')\n",
    "    ax[0].set_xlabel('Epoch')\n",
    "\n",
    "    ax[0].set_ylim((0,1))\n",
    "    \n",
    "    ax[0].legend(['Train', 'Test'], loc='best')\n",
    "\n",
    "    ax[0].grid(axis=\"x\",linewidth=0.5)\n",
    "    ax[0].grid(axis=\"y\",linewidth=0.5)\n",
    "\n",
    "    # --- ACCURACY\n",
    "\n",
    "    ax[1].plot(history.history['accuracy'])\n",
    "    ax[1].plot(history.history['val_accuracy'])\n",
    "\n",
    "    ax[1].set_title('Model Accuracy')\n",
    "    ax[1].set_ylabel('Accuracy')\n",
    "    ax[1].set_xlabel('Epoch')\n",
    "\n",
    "    ax[1].legend(['Train', 'Test'], loc='best')\n",
    "\n",
    "    ax[1].set_ylim((0.7,0.9))\n",
    "\n",
    "    ax[1].grid(axis=\"x\",linewidth=0.5)\n",
    "    ax[1].grid(axis=\"y\",linewidth=0.5)\n",
    "\n",
    "    if title:\n",
    "        fig.suptitle(title) \n",
    "        "
   ]
  },
  {
   "cell_type": "code",
   "execution_count": 20,
   "metadata": {},
   "outputs": [],
   "source": [
    "from tensorflow.keras import layers, Sequential\n",
    "\n",
    "embedding_size = 50\n",
    "\n",
    "def initialize_model_RNN():\n",
    "    model = Sequential()\n",
    "    model.add(layers.Embedding( input_dim = vocab_size+1,\n",
    "                                output_dim = embedding_size,\n",
    "                                mask_zero=True,))\n",
    "    model.add(layers.LSTM(units = 20, activation='tanh'))\n",
    "    model.add(layers.Dense(15, activation='relu'))\n",
    "    model.add(layers.Dense(1, activation='sigmoid'))\n",
    "    \n",
    "    # compile\n",
    "    model.compile(loss='binary_crossentropy',\n",
    "                  optimizer='rmsprop',\n",
    "                  metrics=['accuracy'])\n",
    "    return model\n"
   ]
  },
  {
   "cell_type": "code",
   "execution_count": 21,
   "metadata": {},
   "outputs": [
    {
     "name": "stderr",
     "output_type": "stream",
     "text": [
      "2024-09-19 14:17:28.774911: E tensorflow/core/util/util.cc:131] oneDNN supports DT_BOOL only on platforms with AVX-512. Falling back to the default Eigen-based implementation if present.\n"
     ]
    },
    {
     "name": "stdout",
     "output_type": "stream",
     "text": [
      "CPU times: user 4min 42s, sys: 2min 46s, total: 7min 28s\n",
      "Wall time: 1min 49s\n"
     ]
    }
   ],
   "source": [
    "%%time\n",
    "\n",
    "model = initialize_model_RNN()\n",
    "\n",
    "from tensorflow.keras.callbacks import EarlyStopping\n",
    "es = EarlyStopping(patience = 5, restore_best_weights = True)\n",
    "\n",
    "history = model.fit(x=X_train_pad,\n",
    "                    y=y_train,\n",
    "                    batch_size=32,\n",
    "                    epochs=1000,\n",
    "                    verbose=0,\n",
    "                    callbacks=[es],\n",
    "                    validation_split=0.3)\n"
   ]
  },
  {
   "cell_type": "code",
   "execution_count": 22,
   "metadata": {},
   "outputs": [
    {
     "data": {
      "image/png": "[encoded data removed]",
      "text/plain": [
       "<Figure size 2000x700 with 2 Axes>"
      ]
     },
     "metadata": {},
     "output_type": "display_data"
    }
   ],
   "source": [
    "plot_loss_accuracy(history)"
   ]
  },
  {
   "cell_type": "markdown",
   "metadata": {
    "id": "kfxOOKRSR9zr"
   },
   "source": [
    "11 / Évaluez votre modèle de RNN sur les données de X_test et enregistrez la métrique dans RNN_metric."
   ]
  },
  {
   "cell_type": "code",
   "execution_count": 23,
   "metadata": {
    "id": "874ZdUdDSG0f"
   },
   "outputs": [
    {
     "data": {
      "text/plain": [
       "0.7967567443847656"
      ]
     },
     "execution_count": 23,
     "metadata": {},
     "output_type": "execute_result"
    }
   ],
   "source": [
    "res = model.evaluate(X_test_pad, y_test, verbose=0)\n",
    "RNN_metric = res[1]\n",
    "RNN_metric"
   ]
  },
  {
   "cell_type": "markdown",
   "metadata": {
    "id": "QXikBxLvLv1e"
   },
   "source": [
    "# Votre architecture de CNN"
   ]
  },
  {
   "cell_type": "markdown",
   "metadata": {
    "id": "wf_6ooOJSHLo"
   },
   "source": [
    "12 / Créez une architecture de CNN adaptée au texte pour accomplir cette tâche et entraînez le modèle. Veillez à prendre des mesures pour éviter l'overfitting."
   ]
  },
  {
   "cell_type": "code",
   "execution_count": 24,
   "metadata": {
    "id": "-UfnaK6GSMV4"
   },
   "outputs": [],
   "source": [
    "from tensorflow.keras import layers, Sequential\n",
    "\n",
    "def initialize_model_CNN():\n",
    "    model = Sequential()\n",
    "    model.add(layers.Embedding( input_dim = vocab_size+1,\n",
    "                                output_dim = embedding_size,\n",
    "                                mask_zero=True,))\n",
    "    \n",
    "    model.add(layers.Conv1D(filters = 10,\n",
    "                            kernel_size = 15,\n",
    "                            padding='same',\n",
    "                            activation='relu',))\n",
    "    \n",
    "    model.add(layers.Conv1D(filters = 10,\n",
    "                        kernel_size = 10,\n",
    "                        padding='same',\n",
    "                        activation='relu',))\n",
    "    \n",
    "    model.add(layers.Flatten())\n",
    "    model.add(layers.Dense(units = 30, activation='relu'))\n",
    "    model.add(layers.Dropout(rate = 0.15))\n",
    "    model.add(layers.Dense(units = 1, activation='sigmoid'))\n",
    "    \n",
    "    # Compile\n",
    "    model.compile(loss='binary_crossentropy',\n",
    "                  optimizer='rmsprop',\n",
    "                  metrics=['accuracy'])\n",
    "    return model\n"
   ]
  },
  {
   "cell_type": "code",
   "execution_count": 25,
   "metadata": {},
   "outputs": [
    {
     "name": "stderr",
     "output_type": "stream",
     "text": [
      "/home/thierry/.pyenv/versions/3.10.6/envs/lewagon/lib/python3.10/site-packages/keras/src/layers/layer.py:877: UserWarning: Layer 'conv1d' (of type Conv1D) was passed an input with a mask attached to it. However, this layer does not support masking and will therefore destroy the mask information. Downstream layers will not see the mask.\n",
      "  warnings.warn(\n"
     ]
    },
    {
     "name": "stdout",
     "output_type": "stream",
     "text": [
      "CPU times: user 35.9 s, sys: 16 s, total: 51.9 s\n",
      "Wall time: 21.1 s\n"
     ]
    }
   ],
   "source": [
    "%%time\n",
    "\n",
    "model = initialize_model_CNN()\n",
    "\n",
    "from tensorflow.keras.callbacks import EarlyStopping\n",
    "es = EarlyStopping(patience = 5, restore_best_weights = True)\n",
    "\n",
    "history = model.fit(x=X_train_pad,\n",
    "                    y=y_train,\n",
    "                    batch_size=32,\n",
    "                    epochs=1000,\n",
    "                    verbose=0,\n",
    "                    callbacks=[es],\n",
    "                    validation_split=0.3)\n"
   ]
  },
  {
   "cell_type": "code",
   "execution_count": 26,
   "metadata": {
    "scrolled": true
   },
   "outputs": [
    {
     "data": {
      "image/png": "[encoded data removed]",
      "text/plain": [
       "<Figure size 2000x700 with 2 Axes>"
      ]
     },
     "metadata": {},
     "output_type": "display_data"
    }
   ],
   "source": [
    "plot_loss_accuracy(history)\n"
   ]
  },
  {
   "cell_type": "markdown",
   "metadata": {
    "id": "d9Q5a2IDSM8v"
   },
   "source": [
    "13 / Évaluez votre modèle de CNN sur les données de X_test et enregistrez la métrique dans CNN_metric."
   ]
  },
  {
   "cell_type": "code",
   "execution_count": 27,
   "metadata": {},
   "outputs": [
    {
     "data": {
      "text/plain": [
       "0.7897297143936157"
      ]
     },
     "execution_count": 27,
     "metadata": {},
     "output_type": "execute_result"
    }
   ],
   "source": [
    "res = model.evaluate(X_test_pad, y_test, verbose=0)\n",
    "CNN_metric = res[1]\n",
    "CNN_metric"
   ]
  },
  {
   "cell_type": "markdown",
   "metadata": {
    "id": "cofDxGmlL0r9"
   },
   "source": [
    "# Conclusion"
   ]
  },
  {
   "cell_type": "markdown",
   "metadata": {
    "id": "o6m-kCrwSXYy"
   },
   "source": [
    "14 / Avez-vous battu votre baseline avec au moins un des modèles ?"
   ]
  },
  {
   "cell_type": "markdown",
   "metadata": {
    "id": "pRxvY-vUBSFx"
   },
   "source": [
    "**Both RNN and CNN models beat the baseline model.**\n",
    "\n"
   ]
  },
  {
   "cell_type": "code",
   "execution_count": 28,
   "metadata": {},
   "outputs": [
    {
     "data": {
      "text/html": [
       "<div>\n",
       "<style scoped>\n",
       "    .dataframe tbody tr th:only-of-type {\n",
       "        vertical-align: middle;\n",
       "    }\n",
       "\n",
       "    .dataframe tbody tr th {\n",
       "        vertical-align: top;\n",
       "    }\n",
       "\n",
       "    .dataframe thead th {\n",
       "        text-align: right;\n",
       "    }\n",
       "</style>\n",
       "<table border=\"1\" class=\"dataframe\">\n",
       "  <thead>\n",
       "    <tr style=\"text-align: right;\">\n",
       "      <th></th>\n",
       "      <th>model</th>\n",
       "      <th>accuracy</th>\n",
       "    </tr>\n",
       "  </thead>\n",
       "  <tbody>\n",
       "    <tr>\n",
       "      <th>1</th>\n",
       "      <td>RNN</td>\n",
       "      <td>0.796757</td>\n",
       "    </tr>\n",
       "    <tr>\n",
       "      <th>2</th>\n",
       "      <td>CNN</td>\n",
       "      <td>0.789730</td>\n",
       "    </tr>\n",
       "    <tr>\n",
       "      <th>0</th>\n",
       "      <td>NB (baseline)</td>\n",
       "      <td>0.776905</td>\n",
       "    </tr>\n",
       "  </tbody>\n",
       "</table>\n",
       "</div>"
      ],
      "text/plain": [
       "           model  accuracy\n",
       "1            RNN  0.796757\n",
       "2            CNN  0.789730\n",
       "0  NB (baseline)  0.776905"
      ]
     },
     "execution_count": 28,
     "metadata": {},
     "output_type": "execute_result"
    }
   ],
   "source": [
    "metrics = {'model' : ['NB (baseline)','RNN','CNN'],     \n",
    "       'accuracy' : [NB_metric, RNN_metric, CNN_metric]}\n",
    "\n",
    "metrics = pd.DataFrame(metrics).sort_values(by = 'accuracy', ascending=False)\n",
    "metrics"
   ]
  },
  {
   "cell_type": "markdown",
   "metadata": {
    "id": "yqPnwEyARGRe"
   },
   "source": [
    "# API"
   ]
  },
  {
   "cell_type": "markdown",
   "metadata": {
    "id": "P1StCSVdRIH6"
   },
   "source": [
    "15 / Vous souhaitez permettre à votre collègue aux États-Unis d'utiliser votre modèle pour faire des prédictions. Écrivez ci-dessous le script Python pour une API qui permettra d'effectuer des prédictions à l'aide de votre modèle.\n",
    "\n",
    "N'oubliez pas de documenter votre code : étapes, types de données, méthodes, etc."
   ]
  },
  {
   "cell_type": "code",
   "execution_count": 29,
   "metadata": {
    "id": "TECemMANRHXT"
   },
   "outputs": [
    {
     "ename": "ModuleNotFoundError",
     "evalue": "No module named 'GreenThumbs_September_package_folder'",
     "output_type": "error",
     "traceback": [
      "\u001b[0;31m---------------------------------------------------------------------------\u001b[0m",
      "\u001b[0;31mModuleNotFoundError\u001b[0m                       Traceback (most recent call last)",
      "Cell \u001b[0;32mIn [29], line 23\u001b[0m\n\u001b[1;32m     20\u001b[0m \u001b[38;5;28;01mfrom\u001b[39;00m \u001b[38;5;21;01mfastapi\u001b[39;00m \u001b[38;5;28;01mimport\u001b[39;00m FastAPI, UploadFile, File\n\u001b[1;32m     22\u001b[0m \u001b[38;5;66;03m# Import custom functions from .py files\u001b[39;00m\n\u001b[0;32m---> 23\u001b[0m \u001b[38;5;28;01mfrom\u001b[39;00m \u001b[38;5;21;01mGreenThumbs_September_package_folder\u001b[39;00m\u001b[38;5;21;01m.\u001b[39;00m\u001b[38;5;21;01mapi_functions\u001b[39;00m\u001b[38;5;21;01m.\u001b[39;00m\u001b[38;5;21;01mpreprocessor_api\u001b[39;00m \u001b[38;5;28;01mimport\u001b[39;00m preprocess_features, get_tokenized,get_padded\n\u001b[1;32m     24\u001b[0m \u001b[38;5;28;01mfrom\u001b[39;00m \u001b[38;5;21;01mGreenThumbs_September_package_folder\u001b[39;00m\u001b[38;5;21;01m.\u001b[39;00m\u001b[38;5;21;01mapi_functions\u001b[39;00m\u001b[38;5;21;01m.\u001b[39;00m\u001b[38;5;21;01mmodel_api\u001b[39;00m \u001b[38;5;28;01mimport\u001b[39;00m load_tokenizer,load_model,get_prediction\n\u001b[1;32m     26\u001b[0m \u001b[38;5;66;03m# Instantiate FastAPI\u001b[39;00m\n",
      "\u001b[0;31mModuleNotFoundError\u001b[0m: No module named 'GreenThumbs_September_package_folder'"
     ]
    }
   ],
   "source": [
    "\n",
    "#-------------------------------------------------------------------------------\n",
    "# Author : Thierry CAROLE\n",
    "# Batch Le Wagon 1575 - Data Science\n",
    "# Date : 19/09/2024\n",
    "# Github link : https://github.com/thcarole1/GreenThumbs_September\n",
    "# Code from GreenThumbs_September_package_folder/api.py\n",
    "#-------------------------------------------------------------------------------\n",
    "\n",
    "#-------------------------------------------------------------------------------\n",
    "# GLOBAL STRATEGY : After processing the input (raw reviews from json file),\n",
    "# the API will return the corresponding predictions (A note over 10 i.e 2/10 or 9/10, ...).\n",
    "#-------------------------------------------------------------------------------\n",
    "\n",
    "# Basic libraries\n",
    "import pandas as pd\n",
    "import numpy as np\n",
    "import json\n",
    "\n",
    "#Import FastApi python framework\n",
    "from fastapi import FastAPI, UploadFile, File\n",
    "\n",
    "# Import custom functions from .py files\n",
    "from GreenThumbs_September_package_folder.api_functions.preprocessor_api import preprocess_features, get_tokenized,get_padded\n",
    "from GreenThumbs_September_package_folder.api_functions.model_api import load_tokenizer,load_model,get_prediction\n",
    "\n",
    "# Instantiate FastAPI\n",
    "app = FastAPI()\n",
    "\n",
    "# Define a root `/` endpoint\n",
    "@app.get('/')\n",
    "def index():\n",
    "    return {'Certification Data Science Le Wagon': 'Session de Septembre 2024 !'}\n",
    "\n",
    "# GLOBAL STRATEGY : After processing the input (raw reviews from json file),\n",
    "# the API will return the corresponding predictions.\n",
    "# Define an endpoint allowing to upload a json file (i.e raw reviews).\n",
    "@app.post(\"/upload_and_predict_sentiment\")\n",
    "def create_upload_files(upload_file: UploadFile = File(...)):\n",
    "    # Retrieve input data from json file\n",
    "    json_data = json.load(upload_file.file)\n",
    "\n",
    "    # Create a Pandas dataframe from json input file\n",
    "    # Type of X_test : <class 'pandas.core.frame.DataFrame'>\n",
    "    X_test = pd.DataFrame(json_data)\n",
    "\n",
    "    # Preprocess data (i.e Removing whitespaces, Lowercasing,\n",
    "    # Removing numbers, Removing punctuation, Lemmatizing)\n",
    "    #Type of X_test_preproc : <class 'pandas.core.series.Series'>\n",
    "    X_test_preproc = preprocess_features(X_test['ReviewText'])\n",
    "\n",
    "    # ---- Tokenize the preprocessed data----\n",
    "    #First, we retrieve the tokenizer that has been fitting on the\n",
    "    # training dataset previously (fitted tokenizer stored on the cloud for example).\n",
    "    #Type of tokenizer : <class 'keras.src.legacy.preprocessing.text.Tokenizer'>\n",
    "    tokenizer = load_tokenizer()\n",
    "\n",
    "    # Secondly, we tokenize the preprocessed data with the fitted tokenizer\n",
    "    #Type of X_test_tokens : <class 'list'>\n",
    "    X_test_tokens = get_tokenized(X_test_preproc, tokenizer)\n",
    "\n",
    "    # Padding the preprocessed and tokenized data\n",
    "    #Type of X_test_pad : <class 'numpy.ndarray'>\n",
    "    X_test_pad = get_padded(X_test_tokens, maxlen = 30)\n",
    "\n",
    "    #  Load RNN model that is already fitted on the training data.\n",
    "    #(fitted RNN model stored on the cloud for example).\n",
    "    #Type of model : <class 'keras.src.models.sequential.Sequential'>\n",
    "    model = load_model('RNN')\n",
    "\n",
    "    # Prediction\n",
    "\t# For information, the get_prediction function is described below\n",
    "    #Type of prediction : <class 'numpy.ndarray'>\n",
    "    prediction = get_prediction(X_test_pad, model)\n",
    "    prediction = prediction.tolist()\n",
    "\n",
    "    #Type of prediction_final : <class 'list'>\n",
    "    prediction_final = [np.round(pred[0],1)*10 for pred in prediction]\n",
    "    \n",
    "    # Return the prediction to the user (dictionary)\n",
    "    return {'Prediction' : prediction_final}\n",
    "\n",
    "#-------------------------------------------------------------------------------\n",
    "\n",
    "\n",
    "#  ---------------- MODEL PREDICTION (RNN, CNN) ----------------------\n",
    "# Github link : https://github.com/thcarole1/GreenThumbs_September\n",
    "# Code from GreenThumbs_September_package_folder/model_api.py\n",
    "\n",
    "def get_prediction(X_test, model):\n",
    "    \"\"\" Gets prediction from X_test (numpy array)\n",
    "    and model (keras sequential model)\n",
    "    and returns a array of predictions\"\"\"\n",
    "    prediction = model.predict(X_test)\n",
    "    return prediction\n",
    "# --------------------------------------------------------------------"
   ]
  },
  {
   "cell_type": "markdown",
   "metadata": {
    "id": "moU_0LrNTPzb"
   },
   "source": [
    "16 / Quelles sont les différentes étapes et commandes à effectuer dans le terminal pour déployer un modèle ?"
   ]
  },
  {
   "cell_type": "code",
   "execution_count": null,
   "metadata": {
    "id": "KWe0jd6rTXpq"
   },
   "outputs": [],
   "source": [
    "# We will use Docker and Google Artifact Registry (i.e GAR) to deploy the model.\n",
    "\n",
    "# 1. We'll build the API image locally. We'll run it.\n",
    "\n",
    "=> docker build --tag=$GAR_IMAGE:dev .\n",
    "=> docker run -e PORT=8000 -p 8000:8000 --env-file .env $GAR_IMAGE:dev\n",
    "\n",
    "# 2. If local API image is running without issue, we'll build the final image to push to Google Artifact Registry. We'll run it to check everything is ok locally first (no issue).\n",
    "\n",
    "=> docker build -t  $GCP_REGION-docker.pkg.dev/$GCP_PROJECT/hr-data-repo/$GAR_IMAGE:prod .\n",
    "=> docker run -e PORT=8000 -p 8000:8000 --env-file .env $GCP_REGION-docker.pkg.dev/$GCP_PROJECT/data-repo/$GAR_IMAGE:prod\n",
    "\n",
    "# 3. We'll push the dedicated image to Google Artifact registry.\n",
    "=> docker push $GCP_REGION-docker.pkg.dev/$GCP_PROJECT/data-repo/$GAR_IMAGE:prod\n",
    "\n",
    "# 4. We'll deploy the API from GAR (Google Artifact Registry).\n",
    "\n",
    "=> gcloud run deploy --image $GCP_REGION-docker.pkg.dev/$GCP_PROJECT/data-repo/$GAR_IMAGE:prod --memory $GAR_MEMORY --region $GCP_REGION --env-vars-file .env.yaml\n",
    "\n",
    "# 5. Finally, we retrieve the service URL to share it with US colleagues."
   ]
  },
  {
   "cell_type": "markdown",
   "metadata": {
    "id": "ekcjCAw8R4Rk"
   },
   "source": [
    "17 / Quels sont les différents éléments sur lesquels vous pouvez évaluer et optimiser la performance de votre API ?"
   ]
  },
  {
   "cell_type": "markdown",
   "metadata": {
    "id": "bhurPpMxSKbn"
   },
   "source": [
    "- Temps de réponse (latence)<br>\n",
    "- Débit (throughput)<br>\n",
    "\n",
    "- Taux d'erreur<br>\n",
    "- Disponibilité<br>\n",
    "- scalabilité<br>\n",
    "- Sécurité<br>\n",
    "\n",
    "- Ergonomie<br>\n",
    "- Maintenance\n",
    "\n",
    "\n"
   ]
  },
  {
   "cell_type": "markdown",
   "metadata": {
    "id": "OKWfdospSwy2"
   },
   "source": [
    "18 / Parmi les options suivantes, laquelle n'est pas un enjeu pour le bon déploiement d'un modèle ?\n",
    "\n",
    "Options :\n",
    "\n",
    "- L'éthique\n",
    "- La confidentialité\n",
    "- La taille du modèle\n",
    "- La sécurité"
   ]
  },
  {
   "cell_type": "markdown",
   "metadata": {
    "id": "WFtSUrIReIHx"
   },
   "source": [
    "*Réponse :* **L'éthique n'est pas un enjeu pour le bon déploiement d'un modèle**\n",
    "\n",
    "\n"
   ]
  },
  {
   "cell_type": "markdown",
   "metadata": {
    "id": "LFn9VmcKTmby"
   },
   "source": [
    "19 / Quelles mesures pouvez-vous mettre en place pour répondre efficacement à ces enjeux lors du déploiement d'un modèle ?"
   ]
  },
  {
   "cell_type": "markdown",
   "metadata": {
    "id": "aOoXLrIoTyhm"
   },
   "source": [
    "* Confidentialité<br>\n",
    "    - Mesures : Chiffrement des données, chiffrements des modèles\n",
    "    \n",
    "    \n",
    "    \n",
    "* Taille du modèle<br>\n",
    "    - Mesures : Comprression des modèles, utiliser des modèles légers\n",
    "    \n",
    "    \n",
    "* Sécurité<br>\n",
    "    - Mesures : Authentification, autorisations spécifiques\n",
    "    \n",
    "        \n",
    "        \n",
    "\n"
   ]
  }
 ],
 "metadata": {
  "colab": {
   "provenance": []
  },
  "kernelspec": {
   "display_name": "Python 3 (ipykernel)",
   "language": "python",
   "name": "python3"
  },
  "language_info": {
   "codemirror_mode": {
    "name": "ipython",
    "version": 3
   },
   "file_extension": ".py",
   "mimetype": "text/x-python",
   "name": "python",
   "nbconvert_exporter": "python",
   "pygments_lexer": "ipython3",
   "version": "3.10.6"
  },
  "toc": {
   "base_numbering": 1,
   "nav_menu": {},
   "number_sections": true,
   "sideBar": true,
   "skip_h1_title": false,
   "title_cell": "Table of Contents",
   "title_sidebar": "Contents",
   "toc_cell": false,
   "toc_position": {
    "height": "calc(100% - 180px)",
    "left": "10px",
    "top": "150px",
    "width": "341.333px"
   },
   "toc_section_display": true,
   "toc_window_display": true
  },
  "varInspector": {
   "cols": {
    "lenName": 16,
    "lenType": 16,
    "lenVar": 40
   },
   "kernels_config": {
    "python": {
     "delete_cmd_postfix": "",
     "delete_cmd_prefix": "del ",
     "library": "var_list.py",
     "varRefreshCmd": "print(var_dic_list())"
    },
    "r": {
     "delete_cmd_postfix": ") ",
     "delete_cmd_prefix": "rm(",
     "library": "var_list.r",
     "varRefreshCmd": "cat(var_dic_list()) "
    }
   },
   "types_to_exclude": [
    "module",
    "function",
    "builtin_function_or_method",
    "instance",
    "_Feature"
   ],
   "window_display": false
  }
 },
 "nbformat": 4,
 "nbformat_minor": 1
}
