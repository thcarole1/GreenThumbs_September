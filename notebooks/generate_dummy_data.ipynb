{
 "cells": [
  {
   "cell_type": "markdown",
   "id": "ad1c4985",
   "metadata": {},
   "source": [
    "# Import libraries"
   ]
  },
  {
   "cell_type": "code",
   "execution_count": 1,
   "id": "0bec51e8",
   "metadata": {},
   "outputs": [],
   "source": [
    "%load_ext autoreload\n",
    "%autoreload 2"
   ]
  },
  {
   "cell_type": "code",
   "execution_count": 2,
   "id": "33f7a8b6",
   "metadata": {},
   "outputs": [],
   "source": [
    "from dotenv import load_dotenv\n",
    "import os\n",
    "import time\n",
    "\n",
    "# Basics\n",
    "import pandas as pd\n",
    "import numpy as np"
   ]
  },
  {
   "cell_type": "markdown",
   "id": "631f49e3",
   "metadata": {},
   "source": [
    "# Retrieve data\n"
   ]
  },
  {
   "cell_type": "code",
   "execution_count": 3,
   "id": "c36cfc05",
   "metadata": {},
   "outputs": [
    {
     "name": "stdout",
     "output_type": "stream",
     "text": [
      "/home/thierry/code/thcarole1/GreenThumbs_September/notebooks\r\n"
     ]
    }
   ],
   "source": [
    "!pwd\n"
   ]
  },
  {
   "cell_type": "code",
   "execution_count": 4,
   "id": "a020c718",
   "metadata": {
    "scrolled": false
   },
   "outputs": [
    {
     "data": {
      "text/html": [
       "<div>\n",
       "<style scoped>\n",
       "    .dataframe tbody tr th:only-of-type {\n",
       "        vertical-align: middle;\n",
       "    }\n",
       "\n",
       "    .dataframe tbody tr th {\n",
       "        vertical-align: top;\n",
       "    }\n",
       "\n",
       "    .dataframe thead th {\n",
       "        text-align: right;\n",
       "    }\n",
       "</style>\n",
       "<table border=\"1\" class=\"dataframe\">\n",
       "  <thead>\n",
       "    <tr style=\"text-align: right;\">\n",
       "      <th></th>\n",
       "      <th>ReviewID</th>\n",
       "      <th>ReviewScore</th>\n",
       "      <th>ReviewText</th>\n",
       "      <th>OrderID</th>\n",
       "    </tr>\n",
       "  </thead>\n",
       "  <tbody>\n",
       "    <tr>\n",
       "      <th>0</th>\n",
       "      <td>1</td>\n",
       "      <td>5</td>\n",
       "      <td>None</td>\n",
       "      <td>501210</td>\n",
       "    </tr>\n",
       "    <tr>\n",
       "      <th>1</th>\n",
       "      <td>1</td>\n",
       "      <td>4</td>\n",
       "      <td>None</td>\n",
       "      <td>669676</td>\n",
       "    </tr>\n",
       "    <tr>\n",
       "      <th>2</th>\n",
       "      <td>1</td>\n",
       "      <td>5</td>\n",
       "      <td>None</td>\n",
       "      <td>800210</td>\n",
       "    </tr>\n",
       "    <tr>\n",
       "      <th>3</th>\n",
       "      <td>1</td>\n",
       "      <td>5</td>\n",
       "      <td>None</td>\n",
       "      <td>228723</td>\n",
       "    </tr>\n",
       "    <tr>\n",
       "      <th>4</th>\n",
       "      <td>1</td>\n",
       "      <td>5</td>\n",
       "      <td>None</td>\n",
       "      <td>573604</td>\n",
       "    </tr>\n",
       "    <tr>\n",
       "      <th>...</th>\n",
       "      <td>...</td>\n",
       "      <td>...</td>\n",
       "      <td>...</td>\n",
       "      <td>...</td>\n",
       "    </tr>\n",
       "    <tr>\n",
       "      <th>485050</th>\n",
       "      <td>1</td>\n",
       "      <td>3</td>\n",
       "      <td>ENJOYED MEDICINAL VERA EASY BENEFITS AND FOR. ...</td>\n",
       "      <td>508735</td>\n",
       "    </tr>\n",
       "    <tr>\n",
       "      <th>485051</th>\n",
       "      <td>1</td>\n",
       "      <td>3</td>\n",
       "      <td>None</td>\n",
       "      <td>717862</td>\n",
       "    </tr>\n",
       "    <tr>\n",
       "      <th>485052</th>\n",
       "      <td>1</td>\n",
       "      <td>5</td>\n",
       "      <td>None</td>\n",
       "      <td>258482</td>\n",
       "    </tr>\n",
       "    <tr>\n",
       "      <th>485053</th>\n",
       "      <td>1</td>\n",
       "      <td>5</td>\n",
       "      <td>None</td>\n",
       "      <td>287830</td>\n",
       "    </tr>\n",
       "    <tr>\n",
       "      <th>485054</th>\n",
       "      <td>1</td>\n",
       "      <td>5</td>\n",
       "      <td>None</td>\n",
       "      <td>239104</td>\n",
       "    </tr>\n",
       "  </tbody>\n",
       "</table>\n",
       "<p>485055 rows × 4 columns</p>\n",
       "</div>"
      ],
      "text/plain": [
       "        ReviewID  ReviewScore  \\\n",
       "0              1            5   \n",
       "1              1            4   \n",
       "2              1            5   \n",
       "3              1            5   \n",
       "4              1            5   \n",
       "...          ...          ...   \n",
       "485050         1            3   \n",
       "485051         1            3   \n",
       "485052         1            5   \n",
       "485053         1            5   \n",
       "485054         1            5   \n",
       "\n",
       "                                               ReviewText  OrderID  \n",
       "0                                                    None   501210  \n",
       "1                                                    None   669676  \n",
       "2                                                    None   800210  \n",
       "3                                                    None   228723  \n",
       "4                                                    None   573604  \n",
       "...                                                   ...      ...  \n",
       "485050  ENJOYED MEDICINAL VERA EASY BENEFITS AND FOR. ...   508735  \n",
       "485051                                               None   717862  \n",
       "485052                                               None   258482  \n",
       "485053                                               None   287830  \n",
       "485054                                               None   239104  \n",
       "\n",
       "[485055 rows x 4 columns]"
      ]
     },
     "execution_count": 4,
     "metadata": {},
     "output_type": "execute_result"
    }
   ],
   "source": [
    "# take environment variables from .env.\n",
    "load_dotenv()\n",
    "data_path = os.getenv(\"ORIGINAL_DATA_DIR\")\n",
    "data_path = '../' + data_path\n",
    "\n",
    "\n",
    "#Retrieve dataset from local directory\n",
    "reviews_df = pd.read_json(data_path + 'reviews_df')\n",
    "reviews_df\n"
   ]
  },
  {
   "cell_type": "code",
   "execution_count": 5,
   "id": "f78875ae",
   "metadata": {},
   "outputs": [],
   "source": [
    "reviews_df = reviews_df.dropna()\n",
    "reviews_df = reviews_df.drop_duplicates()\n",
    "\n",
    "\n",
    "# def transform(s):\n",
    "#   if s in range(1,4):\n",
    "#     s = 0\n",
    "#   if s in range(4,6):\n",
    "#     s = 1\n",
    "#   return s\n",
    "\n",
    "# reviews_df['ReviewScore']  = reviews_df['ReviewScore'].apply(transform)"
   ]
  },
  {
   "cell_type": "code",
   "execution_count": 6,
   "id": "6645d7c5",
   "metadata": {
    "scrolled": true
   },
   "outputs": [],
   "source": [
    "# import string\n",
    "# from nltk.corpus import stopwords \n",
    "# from nltk import word_tokenize\n",
    "# from nltk.stem import WordNetLemmatizer\n",
    "\n",
    "# def preprocessing(sentence):\n",
    "#     # Removing whitespaces\n",
    "#     sentence = sentence.strip()\n",
    "    \n",
    "#     # Lowercasing\n",
    "#     sentence = sentence.lower()\n",
    "    \n",
    "#     # Removing numbers\n",
    "#     sentence = ''.join(char for char in sentence if not char.isdigit())\n",
    "    \n",
    "#     # Removing punctuation\n",
    "#     for punctuation in string.punctuation:\n",
    "#         sentence = sentence.replace(punctuation, '')\n",
    "        \n",
    "#     # Tokenizing\n",
    "#     tokenized = word_tokenize(sentence)\n",
    "    \n",
    "#     # Lemmatizing\n",
    "#     lemmatizer = WordNetLemmatizer()\n",
    "#     lemmatized = [lemmatizer.lemmatize(word) for word in tokenized]\n",
    "#     cleaned_sentence = \" \".join(lemmatized)\n",
    "    \n",
    "#     return cleaned_sentence\n",
    "\n",
    "# reviews_df['ReviewText_clean'] = reviews_df['ReviewText'].apply(preprocessing)\n",
    "\n",
    "# reviews_df.head()"
   ]
  },
  {
   "cell_type": "code",
   "execution_count": 7,
   "id": "0e7f27eb",
   "metadata": {},
   "outputs": [],
   "source": [
    "X = reviews_df[['ReviewText']]"
   ]
  },
  {
   "cell_type": "code",
   "execution_count": 8,
   "id": "352dd600",
   "metadata": {},
   "outputs": [
    {
     "data": {
      "text/html": [
       "<div>\n",
       "<style scoped>\n",
       "    .dataframe tbody tr th:only-of-type {\n",
       "        vertical-align: middle;\n",
       "    }\n",
       "\n",
       "    .dataframe tbody tr th {\n",
       "        vertical-align: top;\n",
       "    }\n",
       "\n",
       "    .dataframe thead th {\n",
       "        text-align: right;\n",
       "    }\n",
       "</style>\n",
       "<table border=\"1\" class=\"dataframe\">\n",
       "  <thead>\n",
       "    <tr style=\"text-align: right;\">\n",
       "      <th></th>\n",
       "      <th>ReviewText</th>\n",
       "    </tr>\n",
       "  </thead>\n",
       "  <tbody>\n",
       "    <tr>\n",
       "      <th>8</th>\n",
       "      <td>Product came As expected, timely and well-pack...</td>\n",
       "    </tr>\n",
       "    <tr>\n",
       "      <th>31</th>\n",
       "      <td>Indoor Sweet-scented Or Creating Perfect outdo...</td>\n",
       "    </tr>\n",
       "    <tr>\n",
       "      <th>69</th>\n",
       "      <td>Efficient delivery, item matches the online de...</td>\n",
       "    </tr>\n",
       "    <tr>\n",
       "      <th>87</th>\n",
       "      <td>ITEM ARRIVED ON TIME AND AS DESCRIBED.</td>\n",
       "    </tr>\n",
       "    <tr>\n",
       "      <th>140</th>\n",
       "      <td>Satisfactory experience, would recommend to ot...</td>\n",
       "    </tr>\n",
       "  </tbody>\n",
       "</table>\n",
       "</div>"
      ],
      "text/plain": [
       "                                            ReviewText\n",
       "8    Product came As expected, timely and well-pack...\n",
       "31   Indoor Sweet-scented Or Creating Perfect outdo...\n",
       "69   Efficient delivery, item matches the online de...\n",
       "87              ITEM ARRIVED ON TIME AND AS DESCRIBED.\n",
       "140  Satisfactory experience, would recommend to ot..."
      ]
     },
     "execution_count": 8,
     "metadata": {},
     "output_type": "execute_result"
    }
   ],
   "source": [
    "X.head()"
   ]
  },
  {
   "cell_type": "code",
   "execution_count": 9,
   "id": "8ab34eb8",
   "metadata": {},
   "outputs": [
    {
     "data": {
      "text/plain": [
       "(9246, 1)"
      ]
     },
     "execution_count": 9,
     "metadata": {},
     "output_type": "execute_result"
    }
   ],
   "source": [
    "X.shape\n"
   ]
  },
  {
   "cell_type": "markdown",
   "id": "8b594bf3",
   "metadata": {},
   "source": [
    "# Generate dummy input - Variable number of reviews\n"
   ]
  },
  {
   "cell_type": "code",
   "execution_count": 10,
   "id": "d5d40165",
   "metadata": {},
   "outputs": [],
   "source": [
    "# Generate a dataset of 'number' random rows from original dataset\n",
    "dummy_dir = os.getenv(\"DUMMY_DATA_DIR\")\n",
    "number = [1, 3, 5, 8, 10, 15]\n",
    "\n",
    "def generate_dummy_data_leaving(number, data):\n",
    "    '''\n",
    "    generate_data_leaving creates a json file of 'number' rows from data and saves it locally.\n",
    "    For demonstration purpose with Front-End.\n",
    "    \n",
    "    '''\n",
    "    timestamp = time.strftime(\"%Y%m%d_%H%M%S\")\n",
    "    file_path = os.path.join('../'+ dummy_dir,f\"{timestamp}_dummy_{number}_reviews.json\")\n",
    "    data.sample(number).to_json(file_path)\n",
    "\n",
    "# for num in number: \n",
    "#     generate_dummy_data_leaving(num,X)\n"
   ]
  }
 ],
 "metadata": {
  "kernelspec": {
   "display_name": "Python 3 (ipykernel)",
   "language": "python",
   "name": "python3"
  },
  "language_info": {
   "codemirror_mode": {
    "name": "ipython",
    "version": 3
   },
   "file_extension": ".py",
   "mimetype": "text/x-python",
   "name": "python",
   "nbconvert_exporter": "python",
   "pygments_lexer": "ipython3",
   "version": "3.10.6"
  },
  "toc": {
   "base_numbering": 1,
   "nav_menu": {},
   "number_sections": true,
   "sideBar": true,
   "skip_h1_title": false,
   "title_cell": "Table of Contents",
   "title_sidebar": "Contents",
   "toc_cell": false,
   "toc_position": {
    "height": "calc(100% - 180px)",
    "left": "10px",
    "top": "150px",
    "width": "336.609px"
   },
   "toc_section_display": true,
   "toc_window_display": false
  },
  "varInspector": {
   "cols": {
    "lenName": 16,
    "lenType": 16,
    "lenVar": 40
   },
   "kernels_config": {
    "python": {
     "delete_cmd_postfix": "",
     "delete_cmd_prefix": "del ",
     "library": "var_list.py",
     "varRefreshCmd": "print(var_dic_list())"
    },
    "r": {
     "delete_cmd_postfix": ") ",
     "delete_cmd_prefix": "rm(",
     "library": "var_list.r",
     "varRefreshCmd": "cat(var_dic_list()) "
    }
   },
   "types_to_exclude": [
    "module",
    "function",
    "builtin_function_or_method",
    "instance",
    "_Feature"
   ],
   "window_display": false
  }
 },
 "nbformat": 4,
 "nbformat_minor": 5
}
